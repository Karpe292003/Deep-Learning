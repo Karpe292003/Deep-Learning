{
  "nbformat": 4,
  "nbformat_minor": 0,
  "metadata": {
    "colab": {
      "provenance": []
    },
    "kernelspec": {
      "name": "python3",
      "display_name": "Python 3"
    },
    "language_info": {
      "name": "python"
    }
  },
  "cells": [
    {
      "cell_type": "code",
      "execution_count": null,
      "metadata": {
        "colab": {
          "base_uri": "https://localhost:8080/"
        },
        "id": "OqT0LnKfuA_J",
        "outputId": "e029d32d-f247-4289-9f13-01c5cd3815b1"
      },
      "outputs": [
        {
          "output_type": "stream",
          "name": "stdout",
          "text": [
            "Looking in indexes: https://pypi.org/simple, https://us-python.pkg.dev/colab-wheels/public/simple/\n",
            "Requirement already satisfied: pillow in /usr/local/lib/python3.7/dist-packages (7.1.2)\n"
          ]
        }
      ],
      "source": [
        "!pip install pillow"
      ]
    },
    {
      "cell_type": "code",
      "source": [
        "import numpy as np\n",
        "import PIL"
      ],
      "metadata": {
        "id": "NWtq-eu3uuQu"
      },
      "execution_count": null,
      "outputs": []
    },
    {
      "cell_type": "code",
      "source": [
        "from PIL import Image"
      ],
      "metadata": {
        "id": "yhrE9k0eu4lA"
      },
      "execution_count": null,
      "outputs": []
    },
    {
      "cell_type": "code",
      "source": [
        "img = Image.open('/content/poster.jpg')"
      ],
      "metadata": {
        "id": "us2vg-Hnu-Kw"
      },
      "execution_count": null,
      "outputs": []
    },
    {
      "cell_type": "code",
      "source": [
        "print(img)"
      ],
      "metadata": {
        "colab": {
          "base_uri": "https://localhost:8080/"
        },
        "id": "ZlmyMi3zvERv",
        "outputId": "45d0b3d5-1a55-4136-e276-bf2a04bbf875"
      },
      "execution_count": null,
      "outputs": [
        {
          "output_type": "stream",
          "name": "stdout",
          "text": [
            "<PIL.JpegImagePlugin.JpegImageFile image mode=RGB size=1587x2245 at 0x7F53E4AF4390>\n"
          ]
        }
      ]
    },
    {
      "cell_type": "code",
      "source": [
        "print(img.size)"
      ],
      "metadata": {
        "colab": {
          "base_uri": "https://localhost:8080/"
        },
        "id": "4qbIK7hIvGYb",
        "outputId": "0771c559-b8d4-4ad6-8648-feb697031c3a"
      },
      "execution_count": null,
      "outputs": [
        {
          "output_type": "stream",
          "name": "stdout",
          "text": [
            "(1587, 2245)\n"
          ]
        }
      ]
    },
    {
      "cell_type": "code",
      "source": [
        "from numpy import asarray"
      ],
      "metadata": {
        "id": "Ds8DqSfNvMK5"
      },
      "execution_count": null,
      "outputs": []
    },
    {
      "cell_type": "code",
      "source": [
        "imgarr = asarray(img)"
      ],
      "metadata": {
        "id": "xEFiuTmjvZ3e"
      },
      "execution_count": null,
      "outputs": []
    },
    {
      "cell_type": "code",
      "source": [
        "print(imgarr)"
      ],
      "metadata": {
        "colab": {
          "base_uri": "https://localhost:8080/"
        },
        "id": "2Zu9CbbbveI7",
        "outputId": "9a8b53c1-f204-45ea-bdd9-33f7766b4b9e"
      },
      "execution_count": null,
      "outputs": [
        {
          "output_type": "stream",
          "name": "stdout",
          "text": [
            "[[[231 255 233]\n",
            "  [231 255 233]\n",
            "  [231 255 233]\n",
            "  ...\n",
            "  [ 62 109  55]\n",
            "  [ 60 107  53]\n",
            "  [ 58 105  51]]\n",
            "\n",
            " [[231 255 233]\n",
            "  [231 255 233]\n",
            "  [231 255 233]\n",
            "  ...\n",
            "  [113 155 107]\n",
            "  [101 143  95]\n",
            "  [ 87 129  81]]\n",
            "\n",
            " [[231 255 233]\n",
            "  [231 255 233]\n",
            "  [231 255 233]\n",
            "  ...\n",
            "  [222 255 218]\n",
            "  [207 244 203]\n",
            "  [189 226 185]]\n",
            "\n",
            " ...\n",
            "\n",
            " [[ 66 119  47]\n",
            "  [ 62 115  43]\n",
            "  [ 60 113  43]\n",
            "  ...\n",
            "  [ 11 137   1]\n",
            "  [ 11 137   1]\n",
            "  [ 11 137   1]]\n",
            "\n",
            " [[ 55 108  40]\n",
            "  [ 54 109  41]\n",
            "  [ 54 109  41]\n",
            "  ...\n",
            "  [ 10 136   0]\n",
            "  [ 10 136   0]\n",
            "  [ 10 136   0]]\n",
            "\n",
            " [[ 49 104  37]\n",
            "  [ 53 108  41]\n",
            "  [ 54 109  42]\n",
            "  ...\n",
            "  [ 10 136   0]\n",
            "  [ 10 136   0]\n",
            "  [ 10 136   0]]]\n"
          ]
        }
      ]
    },
    {
      "cell_type": "code",
      "source": [],
      "metadata": {
        "id": "vNfTznwPvgRH"
      },
      "execution_count": null,
      "outputs": []
    }
  ]
}